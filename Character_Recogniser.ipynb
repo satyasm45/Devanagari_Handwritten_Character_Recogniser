{
 "cells": [
  {
   "cell_type": "code",
   "execution_count": 2,
   "metadata": {
    "colab": {
     "base_uri": "https://localhost:8080/"
    },
    "executionInfo": {
     "elapsed": 1189,
     "status": "ok",
     "timestamp": 1608878031061,
     "user": {
      "displayName": "SATYA SANGRAM MISHRA",
      "photoUrl": "",
      "userId": "08179314679103919809"
     },
     "user_tz": -330
    },
    "id": "H-_4zmZ8ihOy",
    "outputId": "0def7a87-860f-4f40-b041-919546c10310"
   },
   "outputs": [
    {
     "name": "stdout",
     "output_type": "stream",
     "text": [
      "Drive already mounted at /content/drive; to attempt to forcibly remount, call drive.mount(\"/content/drive\", force_remount=True).\n"
     ]
    }
   ],
   "source": [
    "from google.colab import drive\n",
    "drive.mount('/content/drive')"
   ]
  },
  {
   "cell_type": "code",
   "execution_count": 56,
   "metadata": {
    "executionInfo": {
     "elapsed": 1147,
     "status": "ok",
     "timestamp": 1608881652078,
     "user": {
      "displayName": "SATYA SANGRAM MISHRA",
      "photoUrl": "",
      "userId": "08179314679103919809"
     },
     "user_tz": -330
    },
    "id": "TQoJsAMnZomE"
   },
   "outputs": [],
   "source": [
    "import os\n",
    "import numpy as np\n",
    "import tensorflow as tf\n",
    "import skimage.io as io\n",
    "from tensorflow import keras\n",
    "import pandas as pd\n",
    "import matplotlib.pyplot as plt\n",
    "from tensorflow.keras.layers import *\n",
    "from tensorflow.keras.utils import *\n",
    "from tensorflow.keras.optimizers import Adam\n",
    "from tensorflow.keras.models import *\n",
    "from sklearn.utils import shuffle\n",
    "from sklearn.model_selection import train_test_split\n",
    "import random"
   ]
  },
  {
   "cell_type": "code",
   "execution_count": 4,
   "metadata": {
    "executionInfo": {
     "elapsed": 10089,
     "status": "ok",
     "timestamp": 1608878068290,
     "user": {
      "displayName": "SATYA SANGRAM MISHRA",
      "photoUrl": "",
      "userId": "08179314679103919809"
     },
     "user_tz": -330
    },
    "id": "0jusEbR9ZomE"
   },
   "outputs": [],
   "source": [
    "X_train = pd.read_csv('/content/drive/MyDrive/project_final/X_train.csv')\n",
    "X_train = X_train.drop(X_train.columns[0], axis = 1)\n",
    "X_train = np.array(X_train)"
   ]
  },
  {
   "cell_type": "code",
   "execution_count": 5,
   "metadata": {
    "executionInfo": {
     "elapsed": 1620,
     "status": "ok",
     "timestamp": 1608878074511,
     "user": {
      "displayName": "SATYA SANGRAM MISHRA",
      "photoUrl": "",
      "userId": "08179314679103919809"
     },
     "user_tz": -330
    },
    "id": "JM-xuJBMZomE"
   },
   "outputs": [],
   "source": [
    "Y_train = pd.read_csv('/content/drive/MyDrive/project_final/Y_train.csv')\n",
    "Y_train = Y_train.drop(Y_train.columns[0], axis = 1)\n",
    "Y_train = np.array(Y_train)"
   ]
  },
  {
   "cell_type": "code",
   "execution_count": 7,
   "metadata": {
    "executionInfo": {
     "elapsed": 1947,
     "status": "ok",
     "timestamp": 1608878108463,
     "user": {
      "displayName": "SATYA SANGRAM MISHRA",
      "photoUrl": "",
      "userId": "08179314679103919809"
     },
     "user_tz": -330
    },
    "id": "JoS8hbvXZomE"
   },
   "outputs": [],
   "source": [
    "X_test = pd.read_csv('/content/drive/MyDrive/project_final/X_test.csv')\n",
    "X_test = X_test.drop(X_test.columns[0], axis = 1)\n",
    "X_test = np.array(X_test)"
   ]
  },
  {
   "cell_type": "code",
   "execution_count": 8,
   "metadata": {
    "executionInfo": {
     "elapsed": 1170,
     "status": "ok",
     "timestamp": 1608878111773,
     "user": {
      "displayName": "SATYA SANGRAM MISHRA",
      "photoUrl": "",
      "userId": "08179314679103919809"
     },
     "user_tz": -330
    },
    "id": "p9M7bNSZZomF"
   },
   "outputs": [],
   "source": [
    "Y_test = pd.read_csv('/content/drive/MyDrive/project_final/Y_test.csv')\n",
    "Y_test = Y_test.drop(Y_test.columns[0], axis = 1)\n",
    "Y_test = np.array(Y_test)"
   ]
  },
  {
   "cell_type": "code",
   "execution_count": 9,
   "metadata": {
    "colab": {
     "base_uri": "https://localhost:8080/"
    },
    "executionInfo": {
     "elapsed": 1204,
     "status": "ok",
     "timestamp": 1608878114565,
     "user": {
      "displayName": "SATYA SANGRAM MISHRA",
      "photoUrl": "",
      "userId": "08179314679103919809"
     },
     "user_tz": -330
    },
    "id": "CRfAlMdVZomF",
    "outputId": "4fb3c794-7b8e-496e-9c97-2e2d5606e1c9"
   },
   "outputs": [
    {
     "name": "stdout",
     "output_type": "stream",
     "text": [
      "(78200, 1024)\n"
     ]
    }
   ],
   "source": [
    "print(X_train.shape)"
   ]
  },
  {
   "cell_type": "code",
   "execution_count": 10,
   "metadata": {
    "colab": {
     "base_uri": "https://localhost:8080/"
    },
    "executionInfo": {
     "elapsed": 1015,
     "status": "ok",
     "timestamp": 1608878116140,
     "user": {
      "displayName": "SATYA SANGRAM MISHRA",
      "photoUrl": "",
      "userId": "08179314679103919809"
     },
     "user_tz": -330
    },
    "id": "Hca2_do6ZomF",
    "outputId": "91dc1df3-2590-46b9-f914-cdb4527429b6"
   },
   "outputs": [
    {
     "name": "stdout",
     "output_type": "stream",
     "text": [
      "(78200, 32, 32, 1)\n"
     ]
    }
   ],
   "source": [
    "X_train=X_train.reshape(78200,32,32,1)\n",
    "print(X_train.shape)"
   ]
  },
  {
   "cell_type": "code",
   "execution_count": 11,
   "metadata": {
    "colab": {
     "base_uri": "https://localhost:8080/"
    },
    "executionInfo": {
     "elapsed": 1171,
     "status": "ok",
     "timestamp": 1608878118624,
     "user": {
      "displayName": "SATYA SANGRAM MISHRA",
      "photoUrl": "",
      "userId": "08179314679103919809"
     },
     "user_tz": -330
    },
    "id": "kAzRmdI0ZomF",
    "outputId": "eb7bfde2-9f40-4884-fde2-21374354c203"
   },
   "outputs": [
    {
     "name": "stdout",
     "output_type": "stream",
     "text": [
      "(78200, 1)\n"
     ]
    }
   ],
   "source": [
    "\n",
    "print(Y_train.shape)"
   ]
  },
  {
   "cell_type": "code",
   "execution_count": 12,
   "metadata": {
    "colab": {
     "base_uri": "https://localhost:8080/"
    },
    "executionInfo": {
     "elapsed": 1334,
     "status": "ok",
     "timestamp": 1608878120560,
     "user": {
      "displayName": "SATYA SANGRAM MISHRA",
      "photoUrl": "",
      "userId": "08179314679103919809"
     },
     "user_tz": -330
    },
    "id": "2OSUlTN5ZomG",
    "outputId": "4a28a077-dd7e-4f1b-a72c-16553a517478"
   },
   "outputs": [
    {
     "name": "stdout",
     "output_type": "stream",
     "text": [
      "(13800, 1024)\n"
     ]
    }
   ],
   "source": [
    "print(X_test.shape)"
   ]
  },
  {
   "cell_type": "code",
   "execution_count": 13,
   "metadata": {
    "colab": {
     "base_uri": "https://localhost:8080/"
    },
    "executionInfo": {
     "elapsed": 1156,
     "status": "ok",
     "timestamp": 1608878123329,
     "user": {
      "displayName": "SATYA SANGRAM MISHRA",
      "photoUrl": "",
      "userId": "08179314679103919809"
     },
     "user_tz": -330
    },
    "id": "kUf6VU92ZomG",
    "outputId": "ddbd8b53-c92f-4ad0-d2d6-86f32a88f78c"
   },
   "outputs": [
    {
     "name": "stdout",
     "output_type": "stream",
     "text": [
      "(13800, 32, 32, 1)\n"
     ]
    }
   ],
   "source": [
    "X_test=X_test.reshape(13800,32,32,1)\n",
    "print(X_test.shape)\n"
   ]
  },
  {
   "cell_type": "code",
   "execution_count": 14,
   "metadata": {
    "colab": {
     "base_uri": "https://localhost:8080/"
    },
    "executionInfo": {
     "elapsed": 1154,
     "status": "ok",
     "timestamp": 1608878125790,
     "user": {
      "displayName": "SATYA SANGRAM MISHRA",
      "photoUrl": "",
      "userId": "08179314679103919809"
     },
     "user_tz": -330
    },
    "id": "2k_BZd_jZomG",
    "outputId": "0303be28-b96c-49e0-fafb-1374a3f30ce0"
   },
   "outputs": [
    {
     "name": "stdout",
     "output_type": "stream",
     "text": [
      "(13800, 1)\n"
     ]
    }
   ],
   "source": [
    "print(Y_test.shape)\n"
   ]
  },
  {
   "cell_type": "code",
   "execution_count": 15,
   "metadata": {
    "colab": {
     "base_uri": "https://localhost:8080/"
    },
    "executionInfo": {
     "elapsed": 1430,
     "status": "ok",
     "timestamp": 1608878129654,
     "user": {
      "displayName": "SATYA SANGRAM MISHRA",
      "photoUrl": "",
      "userId": "08179314679103919809"
     },
     "user_tz": -330
    },
    "id": "TQ0KIt-TZomG",
    "outputId": "ec8dec73-3063-4894-c5e8-1586b256c878"
   },
   "outputs": [
    {
     "name": "stdout",
     "output_type": "stream",
     "text": [
      "{37: 0, 38: 1, 39: 2, 40: 3, 41: 4, 42: 5, 43: 6, 44: 7, 45: 8, 46: 9, 10: 'yna', 11: 'taamatar', 12: 'thaa', 13: 'daa', 14: 'dhaa', 15: 'adna', 16: 'tabala', 17: 'tha', 18: 'da', 19: 'dha', 1: 'ka', 20: 'na', 21: 'pa', 22: 'pha', 23: 'ba', 24: 'bha', 25: 'ma', 26: 'yaw', 27: 'ra', 28: 'la', 29: 'waw', 2: 'kha', 30: 'motosaw', 31: 'petchiryakha', 32: 'patalosaw', 33: 'ha', 34: 'chhya', 35: 'tra', 36: 'gya', 3: 'ga', 4: 'gha', 5: 'kna', 6: 'cha', 7: 'chha', 8: 'ja', 9: 'jha'}\n"
     ]
    }
   ],
   "source": [
    "#the 46 classes for characters and digits\n",
    "classes = np.load('/content/drive/MyDrive/project_final/Classes.npy',allow_pickle=True).item()\n",
    "print(classes)"
   ]
  },
  {
   "cell_type": "code",
   "execution_count": 16,
   "metadata": {
    "executionInfo": {
     "elapsed": 1138,
     "status": "ok",
     "timestamp": 1608878132547,
     "user": {
      "displayName": "SATYA SANGRAM MISHRA",
      "photoUrl": "",
      "userId": "08179314679103919809"
     },
     "user_tz": -330
    },
    "id": "YJdQB-ouZomH"
   },
   "outputs": [],
   "source": [
    "X_train = X_train/255\n",
    "X_test = X_test/255"
   ]
  },
  {
   "cell_type": "code",
   "execution_count": 17,
   "metadata": {
    "executionInfo": {
     "elapsed": 2170,
     "status": "ok",
     "timestamp": 1608878135758,
     "user": {
      "displayName": "SATYA SANGRAM MISHRA",
      "photoUrl": "",
      "userId": "08179314679103919809"
     },
     "user_tz": -330
    },
    "id": "qnkwCkOEZomH"
   },
   "outputs": [],
   "source": [
    "X_train, Y_train = shuffle(X_train, Y_train, random_state = 5)\n",
    "X_test, Y_test = shuffle(X_test, Y_test, random_state =2)"
   ]
  },
  {
   "cell_type": "code",
   "execution_count": 18,
   "metadata": {
    "colab": {
     "base_uri": "https://localhost:8080/",
     "height": 283
    },
    "executionInfo": {
     "elapsed": 6417,
     "status": "ok",
     "timestamp": 1608878142690,
     "user": {
      "displayName": "SATYA SANGRAM MISHRA",
      "photoUrl": "",
      "userId": "08179314679103919809"
     },
     "user_tz": -330
    },
    "id": "n1ZgjevQZomH",
    "outputId": "35a3d198-f767-49f8-e8ba-4dddcbf7b44b"
   },
   "outputs": [
    {
     "name": "stdout",
     "output_type": "stream",
     "text": [
      "bha\n"
     ]
    },
    {
     "data": {
      "image/png": "[encoded data removed]",
      "text/plain": [
       "<Figure size 432x288 with 1 Axes>"
      ]
     },
     "metadata": {
      "needs_background": "light",
      "tags": []
     },
     "output_type": "display_data"
    }
   ],
   "source": [
    "plt.imshow(tf.squeeze(X_test[0]))\n",
    "print(classes[int(Y_test[0])])"
   ]
  },
  {
   "cell_type": "code",
   "execution_count": 19,
   "metadata": {
    "colab": {
     "base_uri": "https://localhost:8080/"
    },
    "executionInfo": {
     "elapsed": 1114,
     "status": "ok",
     "timestamp": 1608878147875,
     "user": {
      "displayName": "SATYA SANGRAM MISHRA",
      "photoUrl": "",
      "userId": "08179314679103919809"
     },
     "user_tz": -330
    },
    "id": "MjwSlqBEZomH",
    "outputId": "976a5035-e623-45bb-f1c7-abd521ccba38"
   },
   "outputs": [
    {
     "name": "stdout",
     "output_type": "stream",
     "text": [
      "(5520, 32, 32, 1)\n",
      "(8280, 32, 32, 1)\n"
     ]
    }
   ],
   "source": [
    "X_test, X_val, Y_test, Y_val = train_test_split(X_test, Y_test, test_size = 0.6, random_state = 1)\n",
    "print(X_test.shape)\n",
    "print(X_val.shape)"
   ]
  },
  {
   "cell_type": "code",
   "execution_count": 20,
   "metadata": {
    "colab": {
     "base_uri": "https://localhost:8080/"
    },
    "executionInfo": {
     "elapsed": 1148,
     "status": "ok",
     "timestamp": 1608878150223,
     "user": {
      "displayName": "SATYA SANGRAM MISHRA",
      "photoUrl": "",
      "userId": "08179314679103919809"
     },
     "user_tz": -330
    },
    "id": "CYFIRak8ZomH",
    "outputId": "aa4a129b-5895-4210-b3d8-df3cd77bbcdf"
   },
   "outputs": [
    {
     "name": "stdout",
     "output_type": "stream",
     "text": [
      "(5520, 47)\n"
     ]
    }
   ],
   "source": [
    "Y_test = to_categorical(Y_test)\n",
    "print(Y_test.shape)"
   ]
  },
  {
   "cell_type": "code",
   "execution_count": 21,
   "metadata": {
    "colab": {
     "base_uri": "https://localhost:8080/"
    },
    "executionInfo": {
     "elapsed": 1137,
     "status": "ok",
     "timestamp": 1608878152561,
     "user": {
      "displayName": "SATYA SANGRAM MISHRA",
      "photoUrl": "",
      "userId": "08179314679103919809"
     },
     "user_tz": -330
    },
    "id": "RKBIuapoZomI",
    "outputId": "9bb0af27-f82c-49e3-8a31-5786158fe6ed"
   },
   "outputs": [
    {
     "name": "stdout",
     "output_type": "stream",
     "text": [
      "(8280, 47)\n"
     ]
    }
   ],
   "source": [
    "Y_val = to_categorical(Y_val)\n",
    "print(Y_val.shape)\n"
   ]
  },
  {
   "cell_type": "code",
   "execution_count": 22,
   "metadata": {
    "colab": {
     "base_uri": "https://localhost:8080/"
    },
    "executionInfo": {
     "elapsed": 1399,
     "status": "ok",
     "timestamp": 1608878154863,
     "user": {
      "displayName": "SATYA SANGRAM MISHRA",
      "photoUrl": "",
      "userId": "08179314679103919809"
     },
     "user_tz": -330
    },
    "id": "92Ee-L_rZomI",
    "outputId": "bada2c7e-bdae-4c3c-a21c-de6fcb6cffa7"
   },
   "outputs": [
    {
     "name": "stdout",
     "output_type": "stream",
     "text": [
      "(78200, 47)\n"
     ]
    }
   ],
   "source": [
    "Y_train = to_categorical(Y_train)\n",
    "print(Y_train.shape)"
   ]
  },
  {
   "cell_type": "code",
   "execution_count": 39,
   "metadata": {
    "colab": {
     "base_uri": "https://localhost:8080/"
    },
    "executionInfo": {
     "elapsed": 1170,
     "status": "ok",
     "timestamp": 1608880344597,
     "user": {
      "displayName": "SATYA SANGRAM MISHRA",
      "photoUrl": "",
      "userId": "08179314679103919809"
     },
     "user_tz": -330
    },
    "id": "DjILxBiVZomI",
    "outputId": "6e9dfd69-869a-476b-c9d8-c09202522a62"
   },
   "outputs": [
    {
     "name": "stdout",
     "output_type": "stream",
     "text": [
      "Model: \"model_4\"\n",
      "_________________________________________________________________\n",
      "Layer (type)                 Output Shape              Param #   \n",
      "=================================================================\n",
      "input_7 (InputLayer)         [(None, 32, 32, 1)]       0         \n",
      "_________________________________________________________________\n",
      "conv2d_17 (Conv2D)           (None, 32, 32, 64)        640       \n",
      "_________________________________________________________________\n",
      "batch_normalization_12 (Batc (None, 32, 32, 64)        256       \n",
      "_________________________________________________________________\n",
      "max_pooling2d_12 (MaxPooling (None, 16, 16, 64)        0         \n",
      "_________________________________________________________________\n",
      "conv2d_18 (Conv2D)           (None, 16, 16, 128)       73856     \n",
      "_________________________________________________________________\n",
      "batch_normalization_13 (Batc (None, 16, 16, 128)       512       \n",
      "_________________________________________________________________\n",
      "max_pooling2d_13 (MaxPooling (None, 8, 8, 128)         0         \n",
      "_________________________________________________________________\n",
      "conv2d_19 (Conv2D)           (None, 8, 8, 256)         819456    \n",
      "_________________________________________________________________\n",
      "batch_normalization_14 (Batc (None, 8, 8, 256)         1024      \n",
      "_________________________________________________________________\n",
      "max_pooling2d_14 (MaxPooling (None, 4, 4, 256)         0         \n",
      "_________________________________________________________________\n",
      "flatten_4 (Flatten)          (None, 4096)              0         \n",
      "_________________________________________________________________\n",
      "dense_14 (Dense)             (None, 512)               2097664   \n",
      "_________________________________________________________________\n",
      "dense_15 (Dense)             (None, 256)               131328    \n",
      "_________________________________________________________________\n",
      "dense_16 (Dense)             (None, 128)               32896     \n",
      "_________________________________________________________________\n",
      "dense_17 (Dense)             (None, 47)                6063      \n",
      "=================================================================\n",
      "Total params: 3,163,695\n",
      "Trainable params: 3,162,799\n",
      "Non-trainable params: 896\n",
      "_________________________________________________________________\n",
      "None\n"
     ]
    }
   ],
   "source": [
    "inputs = Input(shape = (32,32,1))\n",
    "conv1 = Conv2D(64, 3, padding='same', activation='tanh')(inputs)\n",
    "conv1 = BatchNormalization()(conv1)\n",
    "pool1 = MaxPooling2D((2,2))(conv1)\n",
    "conv2 = Conv2D(128, 3, padding='same', activation='tanh')(pool1)\n",
    "conv2=BatchNormalization()(conv2)\n",
    "pool2 = MaxPooling2D((2,2))(conv2)\n",
    "conv3 = Conv2D(256, 5, padding='same', activation='tanh')(pool2)\n",
    "conv3=BatchNormalization()(conv3)\n",
    "pool3 = MaxPooling2D((2,2))(conv3)\n",
    "flat = Flatten()(pool3)\n",
    "dense1=Dense(512,activation='relu')(flat)\n",
    "dense2 = Dense(256, activation='relu')(dense1)\n",
    "dense3 = Dense(128, activation='relu')(dense2)\n",
    "dense4 = Dense(47, activation='softmax')(dense3)\n",
    "\n",
    "model = Model(inputs, dense4)\n",
    "print(model.summary())"
   ]
  },
  {
   "cell_type": "code",
   "execution_count": 40,
   "metadata": {
    "colab": {
     "base_uri": "https://localhost:8080/"
    },
    "executionInfo": {
     "elapsed": 149762,
     "status": "ok",
     "timestamp": 1608880501107,
     "user": {
      "displayName": "SATYA SANGRAM MISHRA",
      "photoUrl": "",
      "userId": "08179314679103919809"
     },
     "user_tz": -330
    },
    "id": "oCQ1c5PfZomI",
    "outputId": "9a51d02f-1def-4951-b6eb-8f6ab6d68dd8"
   },
   "outputs": [
    {
     "name": "stdout",
     "output_type": "stream",
     "text": [
      "Epoch 1/15\n",
      "391/391 [==============================] - 11s 25ms/step - loss: 1.4244 - accuracy: 0.6282 - val_loss: 2.2004 - val_accuracy: 0.4868\n",
      "Epoch 2/15\n",
      "391/391 [==============================] - 10s 25ms/step - loss: 0.1114 - accuracy: 0.9657 - val_loss: 0.7443 - val_accuracy: 0.7740\n",
      "Epoch 3/15\n",
      "391/391 [==============================] - 10s 25ms/step - loss: 0.0697 - accuracy: 0.9780 - val_loss: 0.2203 - val_accuracy: 0.9295\n",
      "Epoch 4/15\n",
      "391/391 [==============================] - 10s 25ms/step - loss: 0.0529 - accuracy: 0.9824 - val_loss: 0.3066 - val_accuracy: 0.9064\n",
      "Epoch 5/15\n",
      "391/391 [==============================] - 10s 25ms/step - loss: 0.0452 - accuracy: 0.9850 - val_loss: 0.3544 - val_accuracy: 0.8913\n",
      "Epoch 6/15\n",
      "391/391 [==============================] - 10s 26ms/step - loss: 0.0389 - accuracy: 0.9873 - val_loss: 0.1967 - val_accuracy: 0.9449\n",
      "Epoch 7/15\n",
      "391/391 [==============================] - 10s 26ms/step - loss: 0.0383 - accuracy: 0.9879 - val_loss: 0.0996 - val_accuracy: 0.9723\n",
      "Epoch 8/15\n",
      "391/391 [==============================] - 10s 25ms/step - loss: 0.0298 - accuracy: 0.9900 - val_loss: 0.2177 - val_accuracy: 0.9403\n",
      "Epoch 9/15\n",
      "391/391 [==============================] - 10s 25ms/step - loss: 0.0344 - accuracy: 0.9893 - val_loss: 0.5288 - val_accuracy: 0.8546\n",
      "Epoch 10/15\n",
      "391/391 [==============================] - 10s 25ms/step - loss: 0.0300 - accuracy: 0.9901 - val_loss: 0.1773 - val_accuracy: 0.9516\n",
      "Epoch 11/15\n",
      "391/391 [==============================] - 10s 25ms/step - loss: 0.0334 - accuracy: 0.9896 - val_loss: 0.1078 - val_accuracy: 0.9711\n",
      "Epoch 12/15\n",
      "391/391 [==============================] - 10s 25ms/step - loss: 0.0244 - accuracy: 0.9919 - val_loss: 0.0980 - val_accuracy: 0.9751\n",
      "Epoch 13/15\n",
      "391/391 [==============================] - 10s 25ms/step - loss: 0.0309 - accuracy: 0.9901 - val_loss: 0.2051 - val_accuracy: 0.9471\n",
      "Epoch 14/15\n",
      "391/391 [==============================] - 10s 25ms/step - loss: 0.0289 - accuracy: 0.9923 - val_loss: 0.1235 - val_accuracy: 0.9687\n",
      "Epoch 15/15\n",
      "391/391 [==============================] - 10s 25ms/step - loss: 0.0283 - accuracy: 0.9907 - val_loss: 0.1223 - val_accuracy: 0.9699\n"
     ]
    }
   ],
   "source": [
    "model.compile('Adam', loss = 'categorical_crossentropy', metrics = ['accuracy'])\n",
    "history = model.fit(X_train, Y_train, epochs = 15, batch_size = 200, validation_data = (X_val, Y_val), verbose = 1)"
   ]
  },
  {
   "cell_type": "code",
   "execution_count": 41,
   "metadata": {
    "colab": {
     "base_uri": "https://localhost:8080/",
     "height": 265
    },
    "executionInfo": {
     "elapsed": 1237,
     "status": "ok",
     "timestamp": 1608880511633,
     "user": {
      "displayName": "SATYA SANGRAM MISHRA",
      "photoUrl": "",
      "userId": "08179314679103919809"
     },
     "user_tz": -330
    },
    "id": "wGLXAezCZomJ",
    "outputId": "4b7a6bd9-1a60-4210-8423-6a27239b2a87"
   },
   "outputs": [
    {
     "data": {
      "image/png": "[encoded data removed]",
      "text/plain": [
       "<Figure size 432x288 with 2 Axes>"
      ]
     },
     "metadata": {
      "needs_background": "light",
      "tags": []
     },
     "output_type": "display_data"
    }
   ],
   "source": [
    "fig, ax = plt.subplots(2,1)\n",
    "ax[0].plot(history.history['loss'], color='b', label=\"Training loss\")\n",
    "ax[0].plot(history.history['val_loss'], color='r', label=\"validation loss\",axes =ax[0])\n",
    "legend = ax[0].legend(loc='best', shadow=True)\n",
    "\n",
    "ax[1].plot(history.history['accuracy'], color='b', label=\"Training accuracy\")\n",
    "ax[1].plot(history.history['val_accuracy'], color='r',label=\"Validation accuracy\")\n",
    "legend = ax[1].legend(loc='best', shadow=True)\n"
   ]
  },
  {
   "cell_type": "code",
   "execution_count": 42,
   "metadata": {
    "colab": {
     "base_uri": "https://localhost:8080/"
    },
    "executionInfo": {
     "elapsed": 1432,
     "status": "ok",
     "timestamp": 1608880527467,
     "user": {
      "displayName": "SATYA SANGRAM MISHRA",
      "photoUrl": "",
      "userId": "08179314679103919809"
     },
     "user_tz": -330
    },
    "id": "SJgGvTdCZomJ",
    "outputId": "fa33539e-9739-44ba-d351-0e65027c0a83"
   },
   "outputs": [
    {
     "name": "stdout",
     "output_type": "stream",
     "text": [
      "28/28 [==============================] - 0s 14ms/step - loss: 0.0888 - accuracy: 0.9768\n"
     ]
    },
    {
     "data": {
      "text/plain": [
       "[0.08884512633085251, 0.9768115878105164]"
      ]
     },
     "execution_count": 42,
     "metadata": {
      "tags": []
     },
     "output_type": "execute_result"
    }
   ],
   "source": [
    "model.evaluate(X_test, Y_test, batch_size =200 , verbose =1)"
   ]
  },
  {
   "cell_type": "code",
   "execution_count": 69,
   "metadata": {
    "colab": {
     "base_uri": "https://localhost:8080/"
    },
    "executionInfo": {
     "elapsed": 1859,
     "status": "ok",
     "timestamp": 1608881981126,
     "user": {
      "displayName": "SATYA SANGRAM MISHRA",
      "photoUrl": "",
      "userId": "08179314679103919809"
     },
     "user_tz": -330
    },
    "id": "gfXjIUoivPSR",
    "outputId": "d81b7460-723f-444e-8c9b-dc692ed6e3c1"
   },
   "outputs": [
    {
     "name": "stdout",
     "output_type": "stream",
     "text": [
      "173/173 [==============================] - 1s 3ms/step\n"
     ]
    }
   ],
   "source": [
    "predicted = model.predict(x = X_test, verbose = 1)\n"
   ]
  },
  {
   "cell_type": "code",
   "execution_count": 70,
   "metadata": {
    "colab": {
     "base_uri": "https://localhost:8080/",
     "height": 334
    },
    "executionInfo": {
     "elapsed": 1207,
     "status": "ok",
     "timestamp": 1608881984086,
     "user": {
      "displayName": "SATYA SANGRAM MISHRA",
      "photoUrl": "",
      "userId": "08179314679103919809"
     },
     "user_tz": -330
    },
    "id": "OUv5viSLyBrg",
    "outputId": "b4545634-789e-4a62-fc99-a68407d8df97"
   },
   "outputs": [
    {
     "name": "stdout",
     "output_type": "stream",
     "text": [
      "predicted \n",
      "tabala\n",
      "expected\n",
      "tabala\n"
     ]
    },
    {
     "data": {
      "image/png": "[encoded data removed]",
      "text/plain": [
       "<Figure size 432x288 with 1 Axes>"
      ]
     },
     "metadata": {
      "needs_background": "light",
      "tags": []
     },
     "output_type": "display_data"
    }
   ],
   "source": [
    "index = random.randint(0,5520)\n",
    "img = X_test[index]\n",
    "img = img.reshape((32,32))\n",
    "plt.imshow(img)\n",
    "predicted = np.argmax(predicted, axis = 1)\n",
    "print(\"predicted \")\n",
    "print(classes[predicted[index]])\n",
    "print(\"expected\")\n",
    "print(classes[Y_test[index]])"
   ]
  },
  {
   "cell_type": "code",
   "execution_count": 71,
   "metadata": {
    "executionInfo": {
     "elapsed": 1175,
     "status": "ok",
     "timestamp": 1608882047982,
     "user": {
      "displayName": "SATYA SANGRAM MISHRA",
      "photoUrl": "",
      "userId": "08179314679103919809"
     },
     "user_tz": -330
    },
    "id": "CSPQ_FVo11Ox"
   },
   "outputs": [],
   "source": [
    "model.save('My_Model_1.h5')"
   ]
  }
 ],
 "metadata": {
  "accelerator": "GPU",
  "colab": {
   "collapsed_sections": [],
   "name": "training.ipynb",
   "provenance": []
  },
  "kernelspec": {
   "display_name": "Python 3",
   "language": "python",
   "name": "python3"
  },
  "language_info": {
   "codemirror_mode": {
    "name": "ipython",
    "version": 3
   },
   "file_extension": ".py",
   "mimetype": "text/x-python",
   "name": "python",
   "nbconvert_exporter": "python",
   "pygments_lexer": "ipython3",
   "version": "3.8.5"
  }
 },
 "nbformat": 4,
 "nbformat_minor": 1
}
