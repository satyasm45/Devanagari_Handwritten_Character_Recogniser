{
 "cells": [
  {
   "cell_type": "code",
   "execution_count": 9,
   "metadata": {},
   "outputs": [],
   "source": [
    "import numpy as np\n",
    "import pandas as pd\n",
    "import os\n",
    "import skimage.io as io"
   ]
  },
  {
   "cell_type": "code",
   "execution_count": 10,
   "metadata": {},
   "outputs": [],
   "source": [
    "train_dir = os.listdir('./Train')\n",
    "test_dir = os.listdir('./Test')"
   ]
  },
  {
   "cell_type": "code",
   "execution_count": 11,
   "metadata": {},
   "outputs": [],
   "source": [
    "def create_train_data():\n",
    "    ref = {}\n",
    "    X_train = []\n",
    "    Y_train = []\n",
    "    for i in range(0,10,1):\n",
    "        p = 37+i\n",
    "        ref[p] = i\n",
    "    for names in train_dir:\n",
    "        x = names.split('_')\n",
    "        if x[0]=='character':\n",
    "            ref[int(x[1])] = x[2]\n",
    "        di = './Train/'+names\n",
    "        images = os.listdir(di)\n",
    "        for files in images:\n",
    "            files = di+'/'+files\n",
    "            img = io.imread(files)\n",
    "            X_train.append(img)\n",
    "            if x[0]=='character':\n",
    "                Y_train.append(int(x[1]))\n",
    "            elif x[0]=='digit':\n",
    "                Y_train.append(37 + int(x[1]))\n",
    "    X_train = np.array(X_train)\n",
    "    Y_train = np.asarray(Y_train)\n",
    "    return X_train, Y_train, ref"
   ]
  },
  {
   "cell_type": "code",
   "execution_count": 12,
   "metadata": {},
   "outputs": [],
   "source": [
    "def create_test_data():\n",
    "    X_test = []\n",
    "    Y_test = []\n",
    "    for names in test_dir:\n",
    "        x = names.split('_')\n",
    "        di = './Test/'+names\n",
    "        images = os.listdir(di)\n",
    "        for files in images:\n",
    "            files = di+'/'+files\n",
    "            img = io.imread(files)\n",
    "            X_test.append(img)\n",
    "            if x[0]=='character':\n",
    "                Y_test.append(int(x[1]))\n",
    "            elif x[0]=='digit':\n",
    "                Y_test.append(37 + int(x[1]))\n",
    "    X_test = np.array(X_test)\n",
    "    Y_test = np.asarray(Y_test)\n",
    "    return X_test, Y_test"
   ]
  },
  {
   "cell_type": "code",
   "execution_count": 13,
   "metadata": {},
   "outputs": [],
   "source": [
    "X_train, Y_train, ref = create_train_data()\n",
    "X_test, Y_test = create_test_data()"
   ]
  },
  {
   "cell_type": "code",
   "execution_count": 14,
   "metadata": {},
   "outputs": [
    {
     "name": "stdout",
     "output_type": "stream",
     "text": [
      "(78200, 1024)\n"
     ]
    }
   ],
   "source": [
    "X_train = X_train.reshape([78200,-1])\n",
    "print(X_train.shape)\n",
    "df = pd.DataFrame(X_train)\n",
    "df.to_csv('X_train.csv')"
   ]
  },
  {
   "cell_type": "code",
   "execution_count": 15,
   "metadata": {},
   "outputs": [
    {
     "name": "stdout",
     "output_type": "stream",
     "text": [
      "(13800, 1024)\n"
     ]
    }
   ],
   "source": [
    "X_test = X_test.reshape([13800,1024])\n",
    "print(X_test.shape)\n",
    "df = pd.DataFrame(X_test)\n",
    "df.to_csv('X_test.csv')"
   ]
  },
  {
   "cell_type": "code",
   "execution_count": 16,
   "metadata": {},
   "outputs": [
    {
     "name": "stdout",
     "output_type": "stream",
     "text": [
      "(78200, 1)\n"
     ]
    }
   ],
   "source": [
    "Y_train = Y_train.reshape([78200,-1])\n",
    "print(Y_train.shape)\n",
    "df = pd.DataFrame(Y_train)\n",
    "df.to_csv('Y_train.csv')"
   ]
  },
  {
   "cell_type": "code",
   "execution_count": 17,
   "metadata": {},
   "outputs": [
    {
     "name": "stdout",
     "output_type": "stream",
     "text": [
      "(13800, 1)\n"
     ]
    }
   ],
   "source": [
    "Y_test = Y_test.reshape([13800,-1])\n",
    "print(Y_test.shape)\n",
    "df = pd.DataFrame(Y_test)\n",
    "df.to_csv('Y_test.csv')"
   ]
  },
  {
   "cell_type": "code",
   "execution_count": 18,
   "metadata": {},
   "outputs": [],
   "source": [
    "np.save('Classes.npy',ref)"
   ]
  }
 ],
 "metadata": {
  "kernelspec": {
   "display_name": "Python 3",
   "language": "python",
   "name": "python3"
  },
  "language_info": {
   "codemirror_mode": {
    "name": "ipython",
    "version": 3
   },
   "file_extension": ".py",
   "mimetype": "text/x-python",
   "name": "python",
   "nbconvert_exporter": "python",
   "pygments_lexer": "ipython3",
   "version": "3.8.5"
  }
 },
 "nbformat": 4,
 "nbformat_minor": 4
}
